{
 "cells": [
  {
   "cell_type": "code",
   "execution_count": 1,
   "id": "a308e302",
   "metadata": {},
   "outputs": [],
   "source": [
    "! pip freeze > requirements.txt"
   ]
  },
  {
   "cell_type": "code",
   "execution_count": 1,
   "id": "8e9d3fdc",
   "metadata": {},
   "outputs": [],
   "source": [
    "from PIL import Image\n",
    "import albumentations as A\n",
    "import numpy as np\n",
    "import os\n",
    "import random"
   ]
  },
  {
   "cell_type": "code",
   "execution_count": 2,
   "id": "07936760",
   "metadata": {},
   "outputs": [],
   "source": [
    "# apply transform to the input image and return newly generated image\n",
    "def transform_image(file_name, transforms):\n",
    "    img = np.array(Image.open(file_name).convert('RGB'))\n",
    "    transformed = transforms(image=img)\n",
    "    transformed_image = transformed['image']\n",
    "    return transformed_image"
   ]
  },
  {
   "cell_type": "code",
   "execution_count": 4,
   "id": "42defaf7",
   "metadata": {},
   "outputs": [],
   "source": [
    "T = A.Compose([\n",
    "    A.Resize(256,256),\n",
    "    A.RandomCrop(224,224),\n",
    "    # randomly apply one of following three transform\n",
    "    A.OneOf([\n",
    "        A.VerticalFlip(p=1),\n",
    "        A.HorizontalFlip(p=1),\n",
    "        A.RandomRotate90(p=1)\n",
    "    ]),\n",
    "    # randomly apply one of following three transform\n",
    "    A.OneOf([\n",
    "        A.ColorJitter(p=1),\n",
    "        A.Equalize(p=1),\n",
    "        A.GaussNoise(p=1),\n",
    "        A.RandomBrightnessContrast(p=1)\n",
    "    ])   \n",
    "])"
   ]
  },
  {
   "cell_type": "code",
   "execution_count": 5,
   "id": "fd5fb031",
   "metadata": {},
   "outputs": [],
   "source": [
    "image_base_dir = \"../datasets/train_set_augmented/train/\"\n",
    "class_names = os.listdir(image_base_dir)\n",
    "\n",
    "# apply transform to all image in 'image_base_dir'\n",
    "for name in class_names:\n",
    "    # read list of folders\n",
    "    sub_dir = image_base_dir+name+\"/\"\n",
    "    files = os.listdir(sub_dir)\n",
    "    # read each folder\n",
    "    for file in files:\n",
    "        new_img = transform_image(sub_dir+file, transforms=T)\n",
    "        try:\n",
    "            new_img = Image.fromarray(new_img, \"RGB\")\n",
    "            new_img.save(sub_dir+\"augmented_\"+file,'JPEG')\n",
    "        except:\n",
    "            continue\n",
    "        "
   ]
  },
  {
   "cell_type": "code",
   "execution_count": null,
   "id": "4a312fd4",
   "metadata": {},
   "outputs": [],
   "source": []
  }
 ],
 "metadata": {
  "kernelspec": {
   "display_name": "Python 3 (ipykernel)",
   "language": "python",
   "name": "python3"
  },
  "language_info": {
   "codemirror_mode": {
    "name": "ipython",
    "version": 3
   },
   "file_extension": ".py",
   "mimetype": "text/x-python",
   "name": "python",
   "nbconvert_exporter": "python",
   "pygments_lexer": "ipython3",
   "version": "3.10.6"
  }
 },
 "nbformat": 4,
 "nbformat_minor": 5
}
