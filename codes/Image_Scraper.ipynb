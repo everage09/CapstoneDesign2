{
 "cells": [
  {
   "cell_type": "code",
   "execution_count": 1,
   "id": "25c4acec",
   "metadata": {},
   "outputs": [],
   "source": [
    "! pip freeze > requirements.txt"
   ]
  },
  {
   "cell_type": "code",
   "execution_count": 1,
   "id": "48ccdfbf",
   "metadata": {},
   "outputs": [],
   "source": [
    "from selenium import webdriver\n",
    "from selenium.webdriver.common.keys import Keys\n",
    "from selenium.webdriver.common.by import By\n",
    "from selenium.webdriver.chrome.service import Service\n",
    "from webdriver_manager.chrome import ChromeDriverManager\n",
    "\n",
    "from urllib.request import urlopen\n",
    "import urllib.request\n",
    "import time\n",
    "import os\n"
   ]
  },
  {
   "cell_type": "code",
   "execution_count": 2,
   "id": "28e09b2d",
   "metadata": {},
   "outputs": [],
   "source": [
    "SAVE_DIR = \"../datasets/\"\n",
    "MAX_WAIT_TIME = 3"
   ]
  },
  {
   "cell_type": "code",
   "execution_count": 3,
   "id": "eb2e0076",
   "metadata": {},
   "outputs": [],
   "source": [
    "# function that page scroll to the bottom\n",
    "def Scroll_to_bottom(driver):\n",
    "    last_h = driver.execute_script(\"return document.body.scrollHeight\")\n",
    "    while(True):\n",
    "        driver.execute_script(\"window.scrollTo(0, document.body.scrollHeight);\")\n",
    "        time.sleep(MAX_WAIT_TIME)\n",
    "        new_h = driver.execute_script(\"return document.body.scrollHeight\")\n",
    "        if new_h == last_h:\n",
    "            try:\n",
    "                driver.implicitly_wait(MAX_WAIT_TIME)\n",
    "                driver.find_element(By.CSS_SELECTOR, \".mye4qd\").click()\n",
    "            except:\n",
    "                break\n",
    "        last_h = new_h"
   ]
  },
  {
   "cell_type": "code",
   "execution_count": 4,
   "id": "b428e047",
   "metadata": {},
   "outputs": [],
   "source": [
    "def Search_and_save_images(keyword, save_num=100, save_format=\"jpg\"):\n",
    "    \"\"\"\n",
    "    keyword를 검색하고 save_num 만큼의 이미지를 save_format 형식으로 저장\n",
    "    \"\"\"\n",
    "    global driver\n",
    "    global search_bar\n",
    "    \n",
    "    # make save directory\n",
    "    if not os.path.isdir(f\"../datasets/test/{keyword}\"):\n",
    "        os.makedirs(f\"../datasets/test/{keyword}\")\n",
    "    \n",
    "    # send keyword to search bar\n",
    "    search_bar.send_keys(keyword)\n",
    "    search_bar.send_keys(Keys.RETURN)\n",
    "    # scroll to bottom of page and load images\n",
    "    Scroll_to_bottom(driver)\n",
    "    \n",
    "    # finding all images by css\n",
    "    images = driver.find_elements(By.CSS_SELECTOR, \".rg_i.Q4LuWd\")\n",
    "    count = 1\n",
    "    num_fail = 0\n",
    "    \n",
    "    # download images\n",
    "    for image in images:\n",
    "        if (count > save_num):\n",
    "            break\n",
    "        try:\n",
    "            # click and load larger image\n",
    "            image.click()\n",
    "            time.sleep(MAX_WAIT_TIME)\n",
    "            \n",
    "            #url = driver.find_element(By.XPATH,'//*[@id=\"Sva75c\"]/div/div/div/div[3]/div[2]/c-wiz/div[2]/div[1]/div[1]/div[2]/div/a/img').get_attribute(\"src\")\n",
    "            \n",
    "            # select loaded larger image and get url of it \n",
    "            url = driver.find_element(By.XPATH,'/html/body/div[2]/c-wiz/div[3]/div[2]/div[3]/div/div/div/div[3]/div[2]/c-wiz/div[2]/div[1]/div[1]/div[2]/div/a/img').get_attribute(\"src\")\n",
    "            urllib.request.urlretrieve(url, SAVE_DIR +\"test/\"+ keyword + \"/\" + str(count) + f\".{save_format}\")\n",
    "            count+=1\n",
    "            \n",
    "        except Exception as e:\n",
    "            #print(e)\n",
    "            print(f\"download failed at image no.{count}\")\n",
    "            num_fail+=1\n",
    "            count+=1\n",
    "            continue\n",
    "    print()\n",
    "    print(f\"Downloaded {save_num - num_fail} / {save_num} {keyword} Images\")"
   ]
  },
  {
   "cell_type": "code",
   "execution_count": null,
   "id": "a9ed5c6f",
   "metadata": {},
   "outputs": [],
   "source": [
    "class_names = ['Airplane', 'Ambulance', 'Bicycle', 'Bus', 'Car', 'Fire hydrant', 'Helicopter', \n",
    "           'Motorcycle', 'Parking meter', 'Stop sign', 'Taxi', 'Traffic sign', 'Truck']\n",
    "\n",
    "# setting urllib opener \n",
    "opener = urllib.request.build_opener()\n",
    "opener.addheaders = [('User-Agent', 'Mozila/5.0')]\n",
    "urllib.request.install_opener(opener)\n",
    "\n",
    "# initialize Google Chrome webdriver\n",
    "driver = webdriver.Chrome(service=Service(ChromeDriverManager().install()))\n",
    "driver.maximize_window()\n",
    "driver.implicitly_wait(MAX_WAIT_TIME)\n",
    "\n",
    "# download images\n",
    "for target in class_names:\n",
    "    driver.get(\"https://www.google.co.kr/imghp?hl=ko&ogbl\")\n",
    "    search_bar = driver.find_element(By.NAME, \"q\")\n",
    "    Search_and_save_images(f\"{target}\", 100, \"jpg\")\n",
    "driver.close()"
   ]
  },
  {
   "cell_type": "code",
   "execution_count": 5,
   "id": "022e9814",
   "metadata": {},
   "outputs": [],
   "source": [
    "# Belows are debugging blocks\n",
    "\"\"\"opener = urllib.request.build_opener()\n",
    "opener.addheaders = [('User-Agent', 'Mozila/5.0')]\n",
    "urllib.request.install_opener(opener)\n",
    "driver = webdriver.Chrome(service=Service(ChromeDriverManager().install()))\n",
    "driver.maximize_window()\n",
    "driver.implicitly_wait(MAX_WAIT_TIME)\n",
    "driver.get(\"https://www.google.co.kr/imghp?hl=ko&ogbl\")\n",
    "search_bar = driver.find_element(By.NAME, \"q\")\n",
    "search_bar.send_keys(\"\")\n",
    "search_bar.send_keys(Keys.RETURN)\"\"\""
   ]
  },
  {
   "cell_type": "code",
   "execution_count": 7,
   "id": "3635b87f",
   "metadata": {},
   "outputs": [],
   "source": [
    "#Scroll_to_bottom(driver)"
   ]
  },
  {
   "cell_type": "code",
   "execution_count": 10,
   "id": "dd58d3f2",
   "metadata": {},
   "outputs": [],
   "source": [
    "\"\"\"images = driver.find_elements(By.CSS_SELECTOR, \".rg_i.Q4LuWd\")\n",
    "count = 0\n",
    "for img in images:\n",
    "    if (count < 100):\n",
    "        try:\n",
    "            img.click()\n",
    "            time.sleep(MAX_WAIT_TIME)\n",
    "            url = driver.find_element(By.XPATH,'/html/body/div[2]/c-wiz/div[3]/div[2]/div[3]/div/div/div/div[3]/div[2]/c-wiz/div[2]/div[1]/div[1]/div[2]/div/a/img').get_attribute(\"src\")\n",
    "            urllib.request.urlretrieve(url, SAVE_DIR + f\"\" + \"/\" + f\"{count}\" + \".png\")\n",
    "            count+=1\n",
    "        except Exception as e:\n",
    "            print(e)\n",
    "            print(count)\n",
    "            print()\n",
    "            count+=1\"\"\""
   ]
  },
  {
   "cell_type": "code",
   "execution_count": null,
   "id": "42c86d68",
   "metadata": {},
   "outputs": [],
   "source": []
  }
 ],
 "metadata": {
  "kernelspec": {
   "display_name": "Python 3 (ipykernel)",
   "language": "python",
   "name": "python3"
  },
  "language_info": {
   "codemirror_mode": {
    "name": "ipython",
    "version": 3
   },
   "file_extension": ".py",
   "mimetype": "text/x-python",
   "name": "python",
   "nbconvert_exporter": "python",
   "pygments_lexer": "ipython3",
   "version": "3.10.6"
  }
 },
 "nbformat": 4,
 "nbformat_minor": 5
}
