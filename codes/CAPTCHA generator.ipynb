{
 "cells": [
  {
   "cell_type": "code",
   "execution_count": 8,
   "id": "dc1d5ff8",
   "metadata": {},
   "outputs": [],
   "source": [
    "! pip freeze > requirements.txt"
   ]
  },
  {
   "cell_type": "code",
   "execution_count": 2,
   "id": "bb1b3813",
   "metadata": {},
   "outputs": [],
   "source": [
    "import numpy as np\n",
    "import matplotlib.pyplot as plt\n",
    "import os\n",
    "from PIL import Image"
   ]
  },
  {
   "cell_type": "code",
   "execution_count": 6,
   "id": "e2fc0fbe",
   "metadata": {},
   "outputs": [],
   "source": [
    "def generate_by_merge(img_dir, save_dir, num, size=4, patch_width=224):\n",
    "    \"\"\"\n",
    "    size*size 크기의 grid CAPTCHA 이미지를 여러 이미지를 붙여서 만든다.\n",
    "    img_dir: 캡챠 생성에 사용할 이미지들이 있는 경로. 사용할 이미지는 폴더별로 분류되어 있어야 한다.\n",
    "    save_dir: 생성된 CAPTCHA를 저장할 경로\n",
    "    num: 만든 CAPTCHA의 번호\n",
    "    size: 그리드 한 줄에 사용할 이미지 개수\n",
    "    patch_width: CAPTCAH 셀 하나당 width\n",
    "    \"\"\"\n",
    "    # directory preprocessing\n",
    "    if not (img_dir.endswith(\"/\")):\n",
    "            img_dir = img_dir + \"/\"\n",
    "    if not (save_dir.endswith(\"/\")):\n",
    "            save_dir = save_dir + \"/\"\n",
    "            \n",
    "    # check if directories exsist else make one\n",
    "    if not os.path.isdir(f\"{save_dir}merge\"):\n",
    "        os.makedirs(f\"{save_dir}merge\")\n",
    "    if not os.path.isdir(f\"{save_dir}merge/ans\"):\n",
    "        os.makedirs(f\"{save_dir}merge/ans\")\n",
    "    \n",
    "    # read dir\n",
    "    folders = os.listdir(img_dir)\n",
    "    if (len(folders)) == 0:\n",
    "        print(\"No sub directory found in given directory: Locate folders with images\")\n",
    "        return\n",
    "    # choose a folder\n",
    "    candidates = np.random.choice(folders, size*size, replace=True)\n",
    "    \n",
    "    # compute total size of CAPTCHA image\n",
    "    length = 20 + 4*(size-1) + patch_width*size\n",
    "    \n",
    "    # generate a new image\n",
    "    captcha = Image.new('RGB', (length, length), (255,255,255))\n",
    "    ans = []\n",
    "    for row in range(size):\n",
    "        row_ans = []\n",
    "        for col in range(size):\n",
    "            # read folder to randomly select one photo from there\n",
    "            folder_name = candidates[row*size+col]\n",
    "            next_dir = f\"{img_dir}{folder_name}/\"\n",
    "            row_ans.append(folder_name)\n",
    "            # read image folder and select random image\n",
    "            imgs = os.listdir(next_dir)\n",
    "            img = np.random.choice(imgs, 1)\n",
    "            # open randomly selected photo\n",
    "            patch = Image.open(f\"{next_dir}{img[0]}\")\n",
    "            patch = patch.resize((patch_width, patch_width))\n",
    "            # paste patch into new image\n",
    "            captcha.paste(patch, (10+4*(col)+col*patch_width,10+4*(row)+row*patch_width))\n",
    "            patch.close()\n",
    "        ans.append(row_ans)\n",
    "    \n",
    "    # save CAPTCHA answer to text file\n",
    "    with open(f\"{save_dir}merge/ans/reCAPTCHA_merge_{num}.txt\", \"w\") as f:\n",
    "        for row in ans:\n",
    "            line = \"\"\n",
    "            for item in row:\n",
    "                line = line + item + \",\"\n",
    "            line = line + \"\\n\"\n",
    "            f.write(line)\n",
    "    \n",
    "    # save image\n",
    "    try:\n",
    "        captcha.save(f\"{save_dir}merge/reCAPTCHA_merge_{num}.jpg\", \"JPEG\")\n",
    "    except OSError:\n",
    "        captcha = captcha.convert(\"RGB\")\n",
    "        captcha.save(f\"{save_dir}merge/reCAPTCHA_merge_{num}.jpg\", \"JPEG\")\n",
    "    #captcha.show()"
   ]
  },
  {
   "cell_type": "code",
   "execution_count": 4,
   "id": "7770d7f7",
   "metadata": {},
   "outputs": [],
   "source": [
    "def generate_by_divide(img_dir, save_dir, size=4, width=928):\n",
    "    \"\"\"\n",
    "    size*size 크기의 grid CAPTCHA 이미지를 하나의 이미지를 구역으로 나눠서 만든다.\n",
    "    img_dir: 캡챠 생성에 사용할 이미지들이 있는 경로. 사용할 이미지는 폴더별로 분류되어 있어야 한다.\n",
    "    save_dir: 생성된 CAPTCHA를 저장할 경로\n",
    "    size: 그리드 한 줄에 사용할 이미지 개수\n",
    "    patch_width: CAPTCAH 셀 하나당 width\n",
    "    \"\"\"\n",
    "    # not to make to small image\n",
    "    if (width < 13):\n",
    "        print(\"Width must be larger than 13px\")\n",
    "    # preprocessing\n",
    "    if not (save_dir.endswith(\"/\")):\n",
    "            save_dir = save_dir + \"/\"\n",
    "    if not (img_dir.endswith(\"/\")):\n",
    "            img_dir = img_dir + \"/\"\n",
    "            \n",
    "    # check if directory exsists\n",
    "    if not os.path.isdir(f\"{save_dir}divide\"):\n",
    "        os.makedirs(f\"{save_dir}divide\")\n",
    "    \n",
    "    # read dir\n",
    "    dir_files = os.listdir(img_dir)\n",
    "    if (len(dir_files) == 0):\n",
    "        print(\"No photoes found\")\n",
    "        return\n",
    "    \n",
    "    for num, img in enumerate(dir_files):\n",
    "        captcha = Image.open(img_dir+img)\n",
    "        captcha = captcha.resize((928,928))\n",
    "        px = captcha.load()\n",
    "        # Divide images into patches\n",
    "        for y in range(0,10):\n",
    "            for x in range(0,width):\n",
    "                px[y, x] = (255,255,255)\n",
    "        for y in range(width-10,width):\n",
    "            for x in range(0,width):\n",
    "                px[y, x] = (255,255,255)\n",
    "        for x in range(0,10):\n",
    "            for y in range(0,width):\n",
    "                px[y, x] = (255,255,255)\n",
    "        for x in range(width-10,width):\n",
    "            for y in range(0,width):\n",
    "                px[y, x] = (255,255,255)\n",
    "        \n",
    "        # Drawing white border line\n",
    "        for i in range(size):\n",
    "            for y in range(10+4*(i-1)+224*i,10+4*i+224*i):\n",
    "                for x in range(0,928):\n",
    "                    px[y, x] = (255,255,255)\n",
    "        for j in range(size):\n",
    "            for x in range(10+4*(j-1)+224*j,10+4*j+224*j):\n",
    "                for y in range(0,928):\n",
    "                    px[y, x] = (255,255,255)\n",
    "        \n",
    "        # save image\n",
    "        try:\n",
    "            captcha.save(f\"{save_dir}divide/reCAPTCHA_divide_{num+1}.jpg\", \"JPEG\")\n",
    "        except OSError:\n",
    "            captcha = captcha.convert(\"RGB\")\n",
    "            captcha.save(f\"{save_dir}divide/reCAPTCHA_divide_{num+1}.jpg\", \"JPEG\")\n",
    "        captcha.close()"
   ]
  },
  {
   "cell_type": "code",
   "execution_count": 5,
   "id": "bc820c7c",
   "metadata": {},
   "outputs": [],
   "source": [
    "OUTPUT_DIR = \"../datasets/reCAPTCHA\""
   ]
  },
  {
   "cell_type": "code",
   "execution_count": 7,
   "id": "3f0079b3",
   "metadata": {},
   "outputs": [
    {
     "name": "stderr",
     "output_type": "stream",
     "text": [
      "C:\\Users\\Everage\\AppData\\Local\\Programs\\Python\\Python310\\lib\\site-packages\\PIL\\Image.py:959: UserWarning: Palette images with Transparency expressed in bytes should be converted to RGBA images\n",
      "  warnings.warn(\n"
     ]
    }
   ],
   "source": [
    "for num in range(200):\n",
    "    generate_by_merge(\"../datasets/test/\", OUTPUT_DIR, num+1, size=3)"
   ]
  },
  {
   "cell_type": "code",
   "execution_count": 13,
   "id": "2ec78e27",
   "metadata": {},
   "outputs": [],
   "source": [
    "generate_by_divide(\"../datasets/town street/\", OUTPUT_DIR)"
   ]
  },
  {
   "cell_type": "code",
   "execution_count": null,
   "id": "9781fe2c",
   "metadata": {},
   "outputs": [],
   "source": []
  }
 ],
 "metadata": {
  "kernelspec": {
   "display_name": "Python 3 (ipykernel)",
   "language": "python",
   "name": "python3"
  },
  "language_info": {
   "codemirror_mode": {
    "name": "ipython",
    "version": 3
   },
   "file_extension": ".py",
   "mimetype": "text/x-python",
   "name": "python",
   "nbconvert_exporter": "python",
   "pygments_lexer": "ipython3",
   "version": "3.10.6"
  }
 },
 "nbformat": 4,
 "nbformat_minor": 5
}
